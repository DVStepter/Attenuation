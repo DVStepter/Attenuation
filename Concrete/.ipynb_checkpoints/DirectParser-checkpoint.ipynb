{
 "cells": [
  {
   "cell_type": "code",
   "execution_count": 1,
   "metadata": {
    "collapsed": true
   },
   "outputs": [],
   "source": [
    "import numpy as np\n",
    "import pandas as pd\n",
    "import matplotlib.pyplot as plt\n",
    "import scipy as sci\n",
    "\n",
    "#Creates function to remove extra spaces in sim file\n",
    "def cleanlines(line):\n",
    "    remove = ['  ', ' ']\n",
    "    for r in remove:\n",
    "        clean = line.replace(r, '') \n",
    "    split = clean.split(';')\n",
    "    return split"
   ]
  },
  {
   "cell_type": "code",
   "execution_count": 2,
   "metadata": {
    "collapsed": true
   },
   "outputs": [],
   "source": [
    "#Opens sim file\n",
    "data = open('DirectModel.inc1.id1.sim', 'r').read()\n",
    "lines = data.split('\\n')"
   ]
  },
  {
   "cell_type": "code",
   "execution_count": 3,
   "metadata": {},
   "outputs": [
    {
     "name": "stdout",
     "output_type": "stream",
     "text": [
      "307246\n"
     ]
    },
    {
     "data": {
      "text/plain": [
       "array([(-340.12063599, -668.44445801,  242.34518433),\n",
       "       ( -77.70375061, -745.96386719,  632.53839111),\n",
       "       ( 735.56945801, -146.41581726,  268.75753784),\n",
       "       ( 265.44796753,  701.45373535,   64.81257629),\n",
       "       (-201.30413818,  722.47949219,   85.44313049),\n",
       "       ( 388.70370483,  641.41204834,  160.97415161),\n",
       "       ( 206.12205505, -721.11975098,  595.66870117),\n",
       "       (-697.30566406,  276.16079712,  488.21612549),\n",
       "       (-545.91802979,  514.26989746,  773.36791992),\n",
       "       (-555.31347656, -504.11004639,  684.56341553)],\n",
       "      dtype=[('x_value', '<f4'), ('y_value', '<f4'), ('z_value', '<f4')])"
      ]
     },
     "execution_count": 3,
     "metadata": {},
     "output_type": "execute_result"
    }
   ],
   "source": [
    "#Creates empty array for x, y, and z value of hits\n",
    "darrell_arr = np.dtype({\"names\": ['x_value', 'y_value','z_value'], \"formats\": [np.float32, np.float32, np.float32]})\n",
    "xlist = []\n",
    "ylist = []\n",
    "zlist = []\n",
    "\n",
    "#Tallies total hits in detector\n",
    "c = 0\n",
    "for l in lines:\n",
    "    line  = cleanlines(l)\n",
    "    #print(line[0][2:6])\n",
    "    if len(line) > 1 and line[0][2:6] == 'BLAK':\n",
    "        #print(line)\n",
    "        c +=1\n",
    "        #Tallies coordinates of hits\n",
    "        xlist.append(np.float32(line[4]))\n",
    "        ylist.append(np.float32(line[5]))\n",
    "        zlist.append(np.float32(line[6]))\n",
    "print(c)\n",
    "        \n",
    "\n",
    "useful_arr = np.zeros(len(xlist), darrell_arr)\n",
    "useful_arr['x_value'] = xlist\n",
    "useful_arr['y_value'] = ylist\n",
    "useful_arr['z_value'] = zlist\n",
    "useful_arr[:10]"
   ]
  },
  {
   "cell_type": "code",
   "execution_count": 4,
   "metadata": {},
   "outputs": [
    {
     "data": {
      "text/plain": [
       "array([-116.96807861,  -95.94680023,  -11.25763893,   69.27207184,\n",
       "        105.5694046 ,   58.7836113 ,  -74.04814911,  158.39445496,\n",
       "        136.70985413, -137.76702881], dtype=float32)"
      ]
     },
     "execution_count": 4,
     "metadata": {},
     "output_type": "execute_result"
    }
   ],
   "source": [
    "#Generates phi -180 to 180 degrees\n",
    "phi = np.arctan2(useful_arr['y_value'],useful_arr['x_value'])*180/np.pi\n",
    "phi[:10]"
   ]
  },
  {
   "cell_type": "code",
   "execution_count": 5,
   "metadata": {},
   "outputs": [
    {
     "data": {
      "text/plain": [
       "array([ 750.00006104,  749.99993896,  750.        ,  750.        ,\n",
       "        750.        ,  750.        ,  750.        ,  750.        ,\n",
       "        750.        ,  750.        ], dtype=float32)"
      ]
     },
     "execution_count": 5,
     "metadata": {},
     "output_type": "execute_result"
    }
   ],
   "source": [
    "#Confirms constant r of 750 cm\n",
    "r = np.sqrt(useful_arr['x_value']**2+useful_arr['y_value']**2)\n",
    "r[:10]"
   ]
  },
  {
   "cell_type": "code",
   "execution_count": 10,
   "metadata": {},
   "outputs": [
    {
     "data": {
      "image/png": "[encoded data removed]",
      "text/plain": [
       "<matplotlib.figure.Figure at 0x13d2b34e0>"
      ]
     },
     "metadata": {},
     "output_type": "display_data"
    }
   ],
   "source": [
    "heatmap, xedges, yedges = np.histogram2d(phi,useful_arr['z_value'], bins=[360,10])\n",
    "#extent = [xedges[0], xedges[-1], yedges[0], yedges[-1]]\n",
    "\n",
    "plt.clf()\n",
    "plt.imshow(heatmap.T, extent=[-180,180,0,1000], aspect='auto', origin='lower')\n",
    "cb = plt.colorbar()\n",
    "cb.set_label('Hits')\n",
    "plt.title('Direct (15 Sec Sim)')\n",
    "plt.savefig('Direct_15sec.png')\n",
    "plt.show()"
   ]
  },
  {
   "cell_type": "code",
   "execution_count": 7,
   "metadata": {
    "collapsed": true
   },
   "outputs": [],
   "source": [
    "plt.imshow?"
   ]
  },
  {
   "cell_type": "code",
   "execution_count": null,
   "metadata": {
    "collapsed": true
   },
   "outputs": [],
   "source": []
  }
 ],
 "metadata": {
  "kernelspec": {
   "display_name": "Python 3",
   "language": "python",
   "name": "python3"
  },
  "language_info": {
   "codemirror_mode": {
    "name": "ipython",
    "version": 3
   },
   "file_extension": ".py",
   "mimetype": "text/x-python",
   "name": "python",
   "nbconvert_exporter": "python",
   "pygments_lexer": "ipython3",
   "version": "3.6.2"
  }
 },
 "nbformat": 4,
 "nbformat_minor": 2
}
