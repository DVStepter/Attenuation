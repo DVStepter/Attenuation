{
 "cells": [
  {
   "cell_type": "code",
   "execution_count": 1,
   "metadata": {
    "collapsed": true
   },
   "outputs": [],
   "source": [
    "import numpy as np\n",
    "import pandas as pd\n",
    "import matplotlib.pyplot as plt\n",
    "import scipy as sci\n",
    "\n",
    "#Creates function to remove extra spaces in sim file\n",
    "def cleanlines(line):\n",
    "    remove = ['  ', ' ']\n",
    "    for r in remove:\n",
    "        clean = line.replace(r, '') \n",
    "    split = clean.split(';')\n",
    "    return split"
   ]
  },
  {
   "cell_type": "code",
   "execution_count": 2,
   "metadata": {
    "collapsed": true
   },
   "outputs": [],
   "source": [
    "#Opens sim file\n",
    "data = open('FullConcreteModel.inc1.id1.sim', 'r').read()\n",
    "lines = data.split('\\n')\n",
    "\n"
   ]
  },
  {
   "cell_type": "code",
   "execution_count": 3,
   "metadata": {},
   "outputs": [],
   "source": [
    "infile = open('./AttenuatedConcreteModel.geo.setup', 'r')\n",
    "for l in infile:\n",
    "    pass\n",
    "#     print(l.rstrip('\\n'))\n",
    "infile.close()"
   ]
  },
  {
   "cell_type": "code",
   "execution_count": 4,
   "metadata": {
    "scrolled": false
   },
   "outputs": [
    {
     "name": "stdout",
     "output_type": "stream",
     "text": [
      "// Gamma attenuation\n",
      "\n",
      "Name AttenuatedConcrete\n",
      "Version 1.0\n",
      "\n",
      "SurroundingSphere 1500. 0.0 0.0 0.0 1500.\n",
      "Include $(MEGALIB)/resource/examples/geomega/materials/Materials.geo\n",
      "// Universe volume\n",
      "Volume WorldVolume\n",
      "WorldVolume.Material    Vacuum\n",
      "WorldVolume.Shape       BRIK 1000 1000 1000 //Cube inside sphere side length 1154 cm - 37.8 ft\n",
      "WorldVolume.Visibility  0\n",
      "WorldVolume.Color       1\n",
      "WorldVolume.Mother      0\n",
      "\n",
      "//Northern Concrete wall\n",
      "//5 m long in x\n",
      "//10 cm long in y\n",
      "//10 m tall in z\n",
      "Volume                NorthWall\n",
      "NorthWall.Material    Concrete\n",
      "NorthWall.Shape       BRIK  500.0 5.0 500.0\n",
      "NorthWall.Position    5 500 500\n",
      "NorthWall.Visibility  1\n",
      "NorthWall.Color       6\n",
      "NorthWall.Mother      WorldVolume\n",
      "\n",
      "//Southern Concrete wall\n",
      "//5 m long in x\n",
      "//10 cm long in y\n",
      "//10 m tall in z\n",
      "Volume                SouthWall\n",
      "SouthWall.Material    Concrete\n",
      "SouthWall.Shape       BRIK 500.0 5.0 500.0\n",
      "SouthWall.Position    -5 -500 500\n",
      "SouthWall.Visibility  1\n",
      "SouthWall.Color       6\n",
      "SouthWall.Mother      WorldVolume\n",
      "\n",
      "//Western Concrete wall\n",
      "//10 cm long in x\n",
      "//5 m long in y\n",
      "//10 m tall in z\n",
      "Volume                WestWall\n",
      "WestWall.Material     Concrete\n",
      "WestWall.Shape        BRIK  5 500 500\n",
      "WestWall.Position     -500  5 500\n",
      "WestWall.Visibility   1\n",
      "WestWall.Color        6\n",
      "WestWall.Mother       WorldVolume\n",
      "\n",
      "//Eastern Concrete wall\n",
      "//10 cm long in x\n",
      "//5 m long in y\n",
      "//10 m tall in z\n",
      "Volume EastWall\n",
      "EastWall.Material     Concrete\n",
      "EastWall.Shape        BRIK  5 500 500\n",
      "EastWall.Position     500 -5 500\n",
      "EastWall.Visibility   1\n",
      "EastWall.Color        6\n",
      "EastWall.Mother       WorldVolume\n",
      "\n",
      "//Modeling the BlackBodyAbsorber\n",
      "//10 m tall Cylindrical Absorber 7.5 m from Source, Height centered on Source\n",
      "Volume BBdetector\n",
      "BBdetector.Material NaI\n",
      "BBdetector.Shape TUBS 750 750.1 500.0 0.0 360.0\n",
      "BBdetector.Position 0.0 0.0 500.0\n",
      "BBdetector.Visibility 1\n",
      "BBdetector.Color 7\n",
      "BBdetector.Mother WorldVolume\n",
      "\n",
      "//BlackBodyAbsorber Characteristics\n",
      "Scintillator                BBScint\n",
      "BBScint.DetectorVolume      BBdetector\n",
      "BBScint.SensitiveVolume     BBdetector\n",
      "BBScint.NoiseThreshold      0.000001\n",
      "BBScint.TriggerThreshold    0.000001\n",
      "BBScint.EnergyResolution    ideal\n",
      "BBScint.FailureRate         0.0\n",
      "\n",
      "Trigger TN01\n",
      "TN01.Veto false\n",
      "TN01.TriggerByChannel true\n",
      "TN01.Detector BBScint 1\n",
      "\n",
      "//modeling a fake source\n",
      "//source.Position 0.0 0.0 500.0\n"
     ]
    }
   ],
   "source": [
    "with open('./AttenuatedConcreteModel.geo.setup', 'r') as infile:\n",
    "    for l in infile:\n",
    "        print(l.rstrip('\\n'))"
   ]
  },
  {
   "cell_type": "code",
   "execution_count": 5,
   "metadata": {},
   "outputs": [
    {
     "name": "stdout",
     "output_type": "stream",
     "text": [
      "196190\n"
     ]
    },
    {
     "data": {
      "text/plain": [
       "array([(-391.02352905,  640.00048828,  272.5552063 ),\n",
       "       (-715.74493408, -224.07400513,  850.86883545),\n",
       "       ( 329.5246582 , -673.73101807,  390.25524902),\n",
       "       ( 240.61592102,  710.3548584 ,  171.1789856 ),\n",
       "       (-692.16113281,  288.81307983,  139.99664307),\n",
       "       (-427.87841797, -615.9708252 ,  208.73583984),\n",
       "       (-137.14865112, -737.35351562,  642.88555908),\n",
       "       ( 745.88244629,  -78.48162079,  582.84179688),\n",
       "       (-329.30993652,  673.83599854,  707.29907227),\n",
       "       ( 213.71472168,  718.90612793,  373.85473633)],\n",
       "      dtype=[('x_value', '<f4'), ('y_value', '<f4'), ('z_value', '<f4')])"
      ]
     },
     "execution_count": 5,
     "metadata": {},
     "output_type": "execute_result"
    }
   ],
   "source": [
    "#Creates empty array for x, y, and z value of hits\n",
    "darrell_arr = np.dtype({\"names\": ['x_value', 'y_value','z_value'], \"formats\": [np.float32, np.float32, np.float32]})\n",
    "xlist = []\n",
    "ylist = []\n",
    "zlist = []\n",
    "\n",
    "#Tallies total hits in detector\n",
    "c = 0\n",
    "for l in lines:\n",
    "    line  = cleanlines(l)\n",
    "    #print(line[0][2:6])\n",
    "    if len(line) > 1 and line[0][2:6] == 'BLAK':\n",
    "        #print(line)\n",
    "        c +=1\n",
    "        #Tallies coordinates of hits\n",
    "        xlist.append(np.float32(line[4]))\n",
    "        ylist.append(np.float32(line[5]))\n",
    "        zlist.append(np.float32(line[6]))\n",
    "print(c)\n",
    "        \n",
    "\n",
    "useful_arr = np.zeros(len(xlist), darrell_arr)\n",
    "useful_arr['x_value'] = xlist\n",
    "useful_arr['y_value'] = ylist\n",
    "useful_arr['z_value'] = zlist\n",
    "useful_arr[:10]"
   ]
  },
  {
   "cell_type": "code",
   "execution_count": 6,
   "metadata": {},
   "outputs": [
    {
     "data": {
      "text/plain": [
       "array([ 121.42383575, -162.61653137,  -63.93654251,   71.28739929,\n",
       "        157.3510437 , -124.78540802, -100.5366745 ,   -6.00655031,\n",
       "        116.0451889 ,   73.4439621 ], dtype=float32)"
      ]
     },
     "execution_count": 6,
     "metadata": {},
     "output_type": "execute_result"
    }
   ],
   "source": [
    "#Generates phi -180 to 180 degrees\n",
    "phi = np.arctan2(useful_arr['y_value'],useful_arr['x_value'])*180/np.pi\n",
    "phi[:10]"
   ]
  },
  {
   "cell_type": "code",
   "execution_count": 33,
   "metadata": {},
   "outputs": [
    {
     "data": {
      "text/plain": [
       "array([ 1589.43432617, -2128.64550781,  -836.9274292 ,   933.14990234,\n",
       "        2059.72021484, -1633.43713379, -1316.02197266,   -78.62555695,\n",
       "        1519.0279541 ,   961.37927246], dtype=float32)"
      ]
     },
     "execution_count": 33,
     "metadata": {},
     "output_type": "execute_result"
    }
   ],
   "source": [
    "#Coverts phi degrees into cm\n",
    "x = phi*np.pi*750/180\n",
    "x[:10]"
   ]
  },
  {
   "cell_type": "code",
   "execution_count": 7,
   "metadata": {},
   "outputs": [
    {
     "data": {
      "text/plain": [
       "array([ 750.        ,  750.        ,  750.        ,  750.00006104,\n",
       "        750.        ,  750.        ,  749.99993896,  750.        ,\n",
       "        750.        ,  750.        ], dtype=float32)"
      ]
     },
     "execution_count": 7,
     "metadata": {},
     "output_type": "execute_result"
    }
   ],
   "source": [
    "#Confirms constant r of 750 cm\n",
    "r = np.sqrt(useful_arr['x_value']**2+useful_arr['y_value']**2)\n",
    "r[:10]"
   ]
  },
  {
   "cell_type": "code",
   "execution_count": 48,
   "metadata": {},
   "outputs": [
    {
     "data": {
      "text/plain": [
       "<matplotlib.figure.Figure at 0x1a55401d0>"
      ]
     },
     "metadata": {},
     "output_type": "display_data"
    },
    {
     "data": {
      "image/png": "[encoded data removed]",
      "text/plain": [
       "<matplotlib.figure.Figure at 0x1982d5e10>"
      ]
     },
     "metadata": {},
     "output_type": "display_data"
    }
   ],
   "source": [
    "xedges = np.arange(-180.0, 180.1, 3.)\n",
    "yegdes = np.arange(0., 1000.1, 40.)\n",
    "heatmap, _, __ = np.histogram2d(phi,useful_arr['z_value'], bins=[xedges, yedges])\n",
    "extent = [xedges[0], xedges[-1], yedges[0], yedges[-1]]\n",
    "\n",
    "plt.clf()\n",
    "plt.figure(figsize=(18.8496,8))\n",
    "plt.imshow(heatmap.T, extent=extent, aspect='auto', origin='lower')\n",
    "plt.xticks(np.arange(-180., 181., 30.))\n",
    "# plt.xlim(100, 180)\n",
    "cb = plt.colorbar()\n",
    "cb.set_label('Hits')\n",
    "plt.title('Full Geometry (15 Sec Sim)')\n",
    "plt.savefig('Full_15sec.png')\n",
    "plt.show()"
   ]
  },
  {
   "cell_type": "code",
   "execution_count": 46,
   "metadata": {},
   "outputs": [
    {
     "data": {
      "text/plain": [
       "<matplotlib.figure.Figure at 0x1a563f588>"
      ]
     },
     "metadata": {},
     "output_type": "display_data"
    },
    {
     "data": {
      "image/png": "[encoded data removed]",
      "text/plain": [
       "<matplotlib.figure.Figure at 0x1a563ff28>"
      ]
     },
     "metadata": {},
     "output_type": "display_data"
    }
   ],
   "source": [
    "xedges = np.arange(-2356.2, 2356.2, 100.)\n",
    "yegdes = np.arange(0., 1000.1, 100.)\n",
    "heatmap, _, __ = np.histogram2d(x,useful_arr['z_value'], bins=[xedges, yedges])\n",
    "extent = [xedges[0], xedges[-1], yedges[0], yedges[-1]]\n",
    "\n",
    "plt.clf()\n",
    "plt.figure(figsize=(18.8496,8))\n",
    "plt.imshow(heatmap.T, extent=extent, aspect='auto', origin='lower')\n",
    "plt.xticks(np.arange(-2356.2, 2356.2, 200.))\n",
    "# plt.xlim(100, 180)\n",
    "cb = plt.colorbar()\n",
    "cb.set_label('Hits')\n",
    "plt.title('Full Geometry (15 Sec Sim)')\n",
    "#plt.savefig('Full_15sec.png')\n",
    "plt.show()"
   ]
  },
  {
   "cell_type": "code",
   "execution_count": 9,
   "metadata": {
    "collapsed": true
   },
   "outputs": [],
   "source": []
  },
  {
   "cell_type": "code",
   "execution_count": null,
   "metadata": {
    "collapsed": true
   },
   "outputs": [],
   "source": []
  }
 ],
 "metadata": {
  "kernelspec": {
   "display_name": "Python 3",
   "language": "python",
   "name": "python3"
  },
  "language_info": {
   "codemirror_mode": {
    "name": "ipython",
    "version": 3
   },
   "file_extension": ".py",
   "mimetype": "text/x-python",
   "name": "python",
   "nbconvert_exporter": "python",
   "pygments_lexer": "ipython3",
   "version": "3.6.2"
  }
 },
 "nbformat": 4,
 "nbformat_minor": 2
}
