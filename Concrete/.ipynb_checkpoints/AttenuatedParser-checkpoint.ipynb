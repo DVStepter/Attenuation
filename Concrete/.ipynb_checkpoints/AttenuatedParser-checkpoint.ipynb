{
 "cells": [
  {
   "cell_type": "code",
   "execution_count": 1,
   "metadata": {
    "collapsed": true
   },
   "outputs": [],
   "source": [
    "import numpy as np\n",
    "import pandas as pd\n",
    "import matplotlib.pyplot as plt\n",
    "import scipy as sci\n",
    "\n",
    "#Creates function to remove extra spaces in sim file\n",
    "def cleanlines(line):\n",
    "    remove = ['  ', ' ']\n",
    "    for r in remove:\n",
    "        clean = line.replace(r, '') \n",
    "    split = clean.split(';')\n",
    "    return split"
   ]
  },
  {
   "cell_type": "code",
   "execution_count": 2,
   "metadata": {
    "collapsed": true
   },
   "outputs": [],
   "source": [
    "#Opens sim file\n",
    "data = open('AttenuatedConcreteModel.inc1.id1.sim', 'r').read()\n",
    "lines = data.split('\\n')"
   ]
  },
  {
   "cell_type": "code",
   "execution_count": 3,
   "metadata": {},
   "outputs": [
    {
     "name": "stdout",
     "output_type": "stream",
     "text": [
      "190688\n"
     ]
    },
    {
     "data": {
      "text/plain": [
       "array([(-747.6361084 ,   59.50020981,  347.70690918),\n",
       "       (  92.19454956,  744.31188965,  491.29049683),\n",
       "       ( 606.77062988, -440.82806396,  182.18283081),\n",
       "       (-409.82925415, -628.12420654,  801.74615479),\n",
       "       (-741.56542969,  112.16400146,  552.41571045),\n",
       "       (-324.28405762, -676.26904297,  304.61437988),\n",
       "       (  -9.92967033,  749.93426514,  835.17224121),\n",
       "       ( 599.9418335 , -450.07754517,  868.36138916),\n",
       "       ( 644.78796387,  383.07763672,  524.40997314),\n",
       "       ( 708.53448486,  245.92454529,  677.59393311)],\n",
       "      dtype=[('x_value', '<f4'), ('y_value', '<f4'), ('z_value', '<f4')])"
      ]
     },
     "execution_count": 3,
     "metadata": {},
     "output_type": "execute_result"
    }
   ],
   "source": [
    "#Creates empty array for x, y, and z value of hits\n",
    "darrell_arr = np.dtype({\"names\": ['x_value', 'y_value','z_value'], \"formats\": [np.float32, np.float32, np.float32]})\n",
    "xlist = []\n",
    "ylist = []\n",
    "zlist = []\n",
    "\n",
    "#Tallies total hits in detector\n",
    "c = 0\n",
    "for l in lines:\n",
    "    line  = cleanlines(l)\n",
    "    #print(line[0][2:6])\n",
    "    if len(line) > 1 and line[0][2:6] == 'BLAK':\n",
    "        #print(line)\n",
    "        c +=1\n",
    "        #Tallies coordinates of hits\n",
    "        xlist.append(np.float32(line[4]))\n",
    "        ylist.append(np.float32(line[5]))\n",
    "        zlist.append(np.float32(line[6]))\n",
    "print(c)\n",
    "        \n",
    "#Places x, y, and z values in new array\n",
    "useful_arr = np.zeros(len(xlist), darrell_arr)\n",
    "useful_arr['x_value'] = xlist\n",
    "useful_arr['y_value'] = ylist\n",
    "useful_arr['z_value'] = zlist\n",
    "useful_arr[:10]"
   ]
  },
  {
   "cell_type": "code",
   "execution_count": 4,
   "metadata": {},
   "outputs": [
    {
     "data": {
      "text/plain": [
       "array([ 175.44972229,   82.93899536,  -35.99897003, -123.1230545 ,\n",
       "        171.39903259, -115.6186142 ,   90.7585907 ,  -36.87730408,\n",
       "         30.71514511,   19.141325  ], dtype=float32)"
      ]
     },
     "execution_count": 4,
     "metadata": {},
     "output_type": "execute_result"
    }
   ],
   "source": [
    "#Converts x and y into phi -180 to 180 degrees\n",
    "phi = np.arctan2(useful_arr['y_value'],useful_arr['x_value'])*180/np.pi\n",
    "phi[:10]"
   ]
  },
  {
   "cell_type": "code",
   "execution_count": 5,
   "metadata": {},
   "outputs": [
    {
     "data": {
      "text/plain": [
       "array([ 750.        ,  750.        ,  750.        ,  750.00006104,\n",
       "        750.00006104,  749.99993896,  750.        ,  750.        ,\n",
       "        750.        ,  750.        ], dtype=float32)"
      ]
     },
     "execution_count": 5,
     "metadata": {},
     "output_type": "execute_result"
    }
   ],
   "source": [
    "#Confirms constant r of 750 cm\n",
    "r = np.sqrt(useful_arr['x_value']**2+useful_arr['y_value']**2)\n",
    "r[:10]"
   ]
  },
  {
   "cell_type": "code",
   "execution_count": 6,
   "metadata": {},
   "outputs": [
    {
     "data": {
      "image/png": "[encoded data removed]",
      "text/plain": [
       "<matplotlib.figure.Figure at 0x175b0ee10>"
      ]
     },
     "metadata": {},
     "output_type": "display_data"
    }
   ],
   "source": [
    "heatmap, xedges, yedges = np.histogram2d(phi,useful_arr['z_value'], bins=[360,10])\n",
    "extent = [xedges[0], xedges[-1], yedges[0], yedges[-1]]\n",
    "\n",
    "plt.clf()\n",
    "plt.imshow(heatmap.T, extent=extent, aspect='auto', origin='lower')\n",
    "cb = plt.colorbar()\n",
    "cb.set_label('Hits')\n",
    "plt.title('Attenuated Geometry (15 Sec Sim)')\n",
    "plt.savefig('Attenuated_15sec.png')\n",
    "plt.show()"
   ]
  },
  {
   "cell_type": "code",
   "execution_count": 9,
   "metadata": {
    "collapsed": true
   },
   "outputs": [],
   "source": [
    "plt.imshow?"
   ]
  },
  {
   "cell_type": "code",
   "execution_count": null,
   "metadata": {
    "collapsed": true
   },
   "outputs": [],
   "source": []
  }
 ],
 "metadata": {
  "kernelspec": {
   "display_name": "Python 3",
   "language": "python",
   "name": "python3"
  },
  "language_info": {
   "codemirror_mode": {
    "name": "ipython",
    "version": 3
   },
   "file_extension": ".py",
   "mimetype": "text/x-python",
   "name": "python",
   "nbconvert_exporter": "python",
   "pygments_lexer": "ipython3",
   "version": "3.6.2"
  }
 },
 "nbformat": 4,
 "nbformat_minor": 2
}
