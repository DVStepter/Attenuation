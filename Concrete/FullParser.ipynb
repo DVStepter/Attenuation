{
 "cells": [
  {
   "cell_type": "code",
   "execution_count": 1,
   "metadata": {
    "collapsed": true
   },
   "outputs": [],
   "source": [
    "import numpy as np\n",
    "import pandas as pd\n",
    "import matplotlib.pyplot as plt\n",
    "import scipy as sci\n",
    "\n",
    "#Creates function to remove extra spaces in sim file\n",
    "def cleanlines(line):\n",
    "    remove = ['  ', ' ']\n",
    "    for r in remove:\n",
    "        clean = line.replace(r, '') \n",
    "    split = clean.split(';')\n",
    "    return split"
   ]
  },
  {
   "cell_type": "code",
   "execution_count": 2,
   "metadata": {},
   "outputs": [],
   "source": [
    "#Opens sim file\n",
    "data = open('FullConcreteModel.inc1.id1.sim', 'r').read()\n",
    "lines = data.split('\\n')"
   ]
  },
  {
   "cell_type": "code",
   "execution_count": 3,
   "metadata": {
    "collapsed": true
   },
   "outputs": [],
   "source": [
    "#infile = open('./AttenuatedConcreteModel.geo.setup', 'r')\n",
    "#for l in infile:\n",
    "#    pass\n",
    "#     print(l.rstrip('\\n'))\n",
    "#infile.close()"
   ]
  },
  {
   "cell_type": "code",
   "execution_count": 4,
   "metadata": {
    "scrolled": false
   },
   "outputs": [],
   "source": [
    "#with open('./AttenuatedConcreteModel.geo.setup', 'r') as infile:\n",
    " #   for l in infile:\n",
    "  #      print(l.rstrip('\\n'))"
   ]
  },
  {
   "cell_type": "code",
   "execution_count": 5,
   "metadata": {},
   "outputs": [
    {
     "name": "stdout",
     "output_type": "stream",
     "text": [
      "357282\n"
     ]
    },
    {
     "data": {
      "text/plain": [
       "array([( 423.3793335 ,  619.07183838,  607.9385376 ),\n",
       "       (-526.08880615, -534.53771973,  630.42669678),\n",
       "       (-315.61459351, -680.3583374 ,  193.72331238),\n",
       "       (-279.98440552, -695.77923584,  442.58062744),\n",
       "       (-572.23248291, -484.81954956,  915.97338867),\n",
       "       (-671.96838379, -333.10427856,  338.98916626),\n",
       "       (-117.63224792,  740.71765137,  345.32357788),\n",
       "       ( 700.10424805,  268.98706055,  514.12133789),\n",
       "       (-727.98156738,  180.39625549,  334.01098633),\n",
       "       ( 641.69622803, -388.23440552,  871.91436768)],\n",
       "      dtype=[('x_value', '<f4'), ('y_value', '<f4'), ('z_value', '<f4')])"
      ]
     },
     "execution_count": 5,
     "metadata": {},
     "output_type": "execute_result"
    }
   ],
   "source": [
    "#Creates empty array for x, y, and z value of hits\n",
    "darrell_arr = np.dtype({\"names\": ['x_value', 'y_value','z_value'], \"formats\": [np.float32, np.float32, np.float32]})\n",
    "xlist = []\n",
    "ylist = []\n",
    "zlist = []\n",
    "\n",
    "#Tallies total hits in detector\n",
    "c = 0\n",
    "for l in lines:\n",
    "    line  = cleanlines(l)\n",
    "    #print(line[0][2:6])\n",
    "    if len(line) > 1 and line[0][2:6] == 'BLAK':\n",
    "        #print(line)\n",
    "        c +=1\n",
    "        #Tallies coordinates of hits\n",
    "        xlist.append(np.float32(line[4]))\n",
    "        ylist.append(np.float32(line[5]))\n",
    "        zlist.append(np.float32(line[6]))\n",
    "print(c)\n",
    "        \n",
    "\n",
    "useful_arr = np.zeros(len(xlist), darrell_arr)\n",
    "useful_arr['x_value'] = xlist\n",
    "useful_arr['y_value'] = ylist\n",
    "useful_arr['z_value'] = zlist\n",
    "useful_arr[:10]"
   ]
  },
  {
   "cell_type": "code",
   "execution_count": 6,
   "metadata": {},
   "outputs": [
    {
     "data": {
      "text/plain": [
       "array([  55.63201904, -134.5435791 , -114.88632965, -111.92004395,\n",
       "       -139.72732544, -153.63172913,   99.0236969 ,   21.01727486,\n",
       "        166.08227539,  -31.1744709 ], dtype=float32)"
      ]
     },
     "execution_count": 6,
     "metadata": {},
     "output_type": "execute_result"
    }
   ],
   "source": [
    "#Generates phi -180 to 180 degrees\n",
    "phi = np.arctan2(useful_arr['y_value'],useful_arr['x_value'])*180/np.pi\n",
    "phi[:10]"
   ]
  },
  {
   "cell_type": "code",
   "execution_count": 7,
   "metadata": {},
   "outputs": [
    {
     "data": {
      "text/plain": [
       "array([  728.22143555, -1761.17138672, -1503.85852051, -1465.0300293 ,\n",
       "       -1829.02636719, -2011.03466797,  1296.21716309,   275.11550903,\n",
       "        2174.01196289,  -408.07287598], dtype=float32)"
      ]
     },
     "execution_count": 7,
     "metadata": {},
     "output_type": "execute_result"
    }
   ],
   "source": [
    "#Coverts phi degrees into cm\n",
    "x = phi*np.pi*750/180\n",
    "x[:10]"
   ]
  },
  {
   "cell_type": "code",
   "execution_count": 8,
   "metadata": {},
   "outputs": [
    {
     "data": {
      "text/plain": [
       "array([ 750.        ,  750.        ,  750.00006104,  750.        ,\n",
       "        750.        ,  749.99993896,  750.        ,  750.        ,\n",
       "        750.        ,  750.        ], dtype=float32)"
      ]
     },
     "execution_count": 8,
     "metadata": {},
     "output_type": "execute_result"
    }
   ],
   "source": [
    "#Confirms constant r of 750 cm\n",
    "r = np.sqrt(useful_arr['x_value']**2+useful_arr['y_value']**2)\n",
    "r[:10]"
   ]
  },
  {
   "cell_type": "code",
   "execution_count": 12,
   "metadata": {},
   "outputs": [
    {
     "data": {
      "text/plain": [
       "array([ 607.9385376 ,  630.42669678,  193.72331238,  442.58062744,\n",
       "        915.97338867,  338.98916626,  345.32357788,  514.12133789,\n",
       "        334.01098633,  871.91436768], dtype=float32)"
      ]
     },
     "execution_count": 12,
     "metadata": {},
     "output_type": "execute_result"
    }
   ],
   "source": [
    "z = useful_arr['z_value']\n",
    "z[:10]"
   ]
  },
  {
   "cell_type": "code",
   "execution_count": 10,
   "metadata": {},
   "outputs": [
    {
     "data": {
      "text/plain": [
       "<matplotlib.figure.Figure at 0x220df0ef0>"
      ]
     },
     "metadata": {},
     "output_type": "display_data"
    },
    {
     "data": {
      "image/png": "[encoded data removed]",
      "text/plain": [
       "<matplotlib.figure.Figure at 0x220df0d68>"
      ]
     },
     "metadata": {},
     "output_type": "display_data"
    }
   ],
   "source": [
    "xedges = np.arange(-180.0, 180.1, 3.)\n",
    "yedges = np.arange(0., 1000.1, 40.)\n",
    "heatmap, _, __ = np.histogram2d(phi,useful_arr['z_value'], bins=[xedges, yedges])\n",
    "extent = [xedges[0], xedges[-1], yedges[0], yedges[-1]]\n",
    "\n",
    "plt.clf()\n",
    "plt.figure(figsize=(18.8496,8))\n",
    "plt.imshow(heatmap.T, extent=extent, aspect='auto', origin='lower')\n",
    "plt.xticks(np.arange(-180., 181., 30.))\n",
    "# plt.xlim(100, 180)\n",
    "cb = plt.colorbar()\n",
    "cb.set_label('Hits')\n",
    "plt.title('Full Geometry (15 Sec Sim)')\n",
    "plt.savefig('Full_15sec.png')\n",
    "plt.show()"
   ]
  },
  {
   "cell_type": "code",
   "execution_count": 17,
   "metadata": {},
   "outputs": [
    {
     "data": {
      "image/png": "[encoded data removed]",
      "text/plain": [
       "<matplotlib.figure.Figure at 0x22622cf98>"
      ]
     },
     "metadata": {},
     "output_type": "display_data"
    }
   ],
   "source": [
    "import matplotlib.cm as cm\n",
    "from scipy.ndimage.filters import gaussian_filter\n",
    "\n",
    "\n",
    "def myplot(phi,z, s, bins=[xedges, yedges]):\n",
    "    heatmap, _, __ = np.histogram2d(phi,z, bins=[xedges, yedges])\n",
    "    heatmap = gaussian_filter(heatmap, sigma=s)\n",
    "\n",
    "    extent = [xedges[0], xedges[-1], yedges[0], yedges[-1]]\n",
    "    return heatmap.T, extent\n",
    "\n",
    "\n",
    "fig, axs = plt.subplots(2, 2)\n",
    "\n",
    "\n",
    "sigmas = [0, 16, 32, 64]\n",
    "\n",
    "for ax, s in zip(axs.flatten(), sigmas):\n",
    "    if s == 0:\n",
    "        ax.plot(phi,z, 'k.', markersize=5)\n",
    "        ax.set_title(\"Scatter plot\")\n",
    "    else:\n",
    "        img, extent = myplot(phi,z, s)\n",
    "        ax.imshow(img, extent=extent, origin='lower',aspect='auto', cmap=cm.jet)\n",
    "        ax.set_title(\"Smoothing with  $\\sigma$ = %d\" % s)\n",
    "\n",
    "plt.show()\n"
   ]
  },
  {
   "cell_type": "code",
   "execution_count": 20,
   "metadata": {},
   "outputs": [],
   "source": [
    "heatmap?"
   ]
  },
  {
   "cell_type": "code",
   "execution_count": null,
   "metadata": {
    "collapsed": true
   },
   "outputs": [],
   "source": []
  }
 ],
 "metadata": {
  "kernelspec": {
   "display_name": "Python 3",
   "language": "python",
   "name": "python3"
  },
  "language_info": {
   "codemirror_mode": {
    "name": "ipython",
    "version": 3
   },
   "file_extension": ".py",
   "mimetype": "text/x-python",
   "name": "python",
   "nbconvert_exporter": "python",
   "pygments_lexer": "ipython3",
   "version": "3.6.2"
  }
 },
 "nbformat": 4,
 "nbformat_minor": 2
}
