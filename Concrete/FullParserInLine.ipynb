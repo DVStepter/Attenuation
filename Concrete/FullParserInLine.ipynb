{
 "cells": [
  {
   "cell_type": "code",
   "execution_count": 1,
   "metadata": {
    "collapsed": true
   },
   "outputs": [],
   "source": [
    "import numpy as np\n",
    "import pandas as pd\n",
    "import matplotlib.pyplot as plt\n",
    "import scipy as sci\n",
    "\n",
    "#Creates function to remove extra spaces in sim file\n",
    "def cleanlines(line):\n",
    "    remove = ['  ', ' ']\n",
    "    for r in remove:\n",
    "        clean = line.replace(r, '') \n",
    "    split = clean.split(';')\n",
    "    return split"
   ]
  },
  {
   "cell_type": "code",
   "execution_count": 2,
   "metadata": {
    "collapsed": true
   },
   "outputs": [],
   "source": [
    "#Creates empty array for x, y, and z value of hits\n",
    "darrell_arr = np.dtype({\"names\": ['x_value', 'y_value','z_value'], \"formats\": [np.float32, np.float32, np.float32]})\n",
    "xlist = []\n",
    "ylist = []\n",
    "zlist = []"
   ]
  },
  {
   "cell_type": "code",
   "execution_count": 3,
   "metadata": {
    "collapsed": true
   },
   "outputs": [],
   "source": [
    "#Opens sim file\n",
    "data = open('FullConcreteModel.inc2.id1.sim', 'r')\n",
    "counter = 1\n",
    "#Starts tallies in detector at 0\n",
    "c = 0\n",
    "for l in data:\n",
    "    #counter = counter + 1\n",
    "    #print(line)\n",
    "    #print(type(line))\n",
    "    line = cleanlines(l.strip('\\n'))\n",
    "    if len(line) > 1 and line[0][2:6] == 'BLAK':\n",
    "        #print(line)\n",
    "        c +=1\n",
    "        #Tallies coordinates of hits\n",
    "        xlist.append(np.float32(line[4]))\n",
    "        ylist.append(np.float32(line[5]))\n",
    "        zlist.append(np.float32(line[6]))\n",
    "    #if counter > 10000:\n",
    "       # break\n",
    "data.close()"
   ]
  },
  {
   "cell_type": "code",
   "execution_count": 4,
   "metadata": {},
   "outputs": [
    {
     "name": "stdout",
     "output_type": "stream",
     "text": [
      "1782272\n"
     ]
    },
    {
     "data": {
      "text/plain": [
       "array([( 749.6815 ,   21.85497, 155.00739),\n",
       "       ( 632.22394, -403.47604, 183.40178),\n",
       "       (-486.43625,  570.8588 , 277.82318),\n",
       "       ( 439.57828,  607.6767 , 186.42738),\n",
       "       ( 749.7814 ,   18.10839,  56.0451 ),\n",
       "       (-714.5104 , -227.98001, 255.60233),\n",
       "       ( 736.2063 , -143.17912, 333.73544),\n",
       "       (-697.2061 , -276.41202, 591.18304),\n",
       "       (-685.2822 ,  304.77582, 429.9304 ),\n",
       "       (-211.38107,  719.59576, 813.096  )],\n",
       "      dtype=[('x_value', '<f4'), ('y_value', '<f4'), ('z_value', '<f4')])"
      ]
     },
     "execution_count": 4,
     "metadata": {},
     "output_type": "execute_result"
    }
   ],
   "source": [
    "print(c)\n",
    "\n",
    "useful_arr = np.zeros(len(xlist), darrell_arr)\n",
    "useful_arr['x_value'] = xlist\n",
    "useful_arr['y_value'] = ylist\n",
    "useful_arr['z_value'] = zlist\n",
    "useful_arr[:10]"
   ]
  },
  {
   "cell_type": "code",
   "execution_count": 5,
   "metadata": {},
   "outputs": [
    {
     "data": {
      "text/plain": [
       "array([   1.6698331,  -32.545418 ,  130.43474  ,   54.11895  ,\n",
       "          1.3835136, -162.30359  ,  -11.005633 , -158.37383  ,\n",
       "        156.02313  ,  106.37013  ], dtype=float32)"
      ]
     },
     "execution_count": 5,
     "metadata": {},
     "output_type": "execute_result"
    }
   ],
   "source": [
    "#Generates phi -180 to 180 degrees\n",
    "phi = np.arctan2(useful_arr['y_value'],useful_arr['x_value'])*180/np.pi\n",
    "phi[:10]"
   ]
  },
  {
   "cell_type": "code",
   "execution_count": 6,
   "metadata": {},
   "outputs": [
    {
     "data": {
      "text/plain": [
       "array([   21.858065,  -426.01852 ,  1707.3868  ,   708.4154  ,\n",
       "          18.11015 , -2124.549   ,  -144.06342 , -2073.1084  ,\n",
       "        2042.338   ,  1392.3817  ], dtype=float32)"
      ]
     },
     "execution_count": 6,
     "metadata": {},
     "output_type": "execute_result"
    }
   ],
   "source": [
    "#Coverts phi degrees into cm\n",
    "x = phi*np.pi*750/180\n",
    "x[:10]"
   ]
  },
  {
   "cell_type": "code",
   "execution_count": 7,
   "metadata": {},
   "outputs": [
    {
     "data": {
      "text/plain": [
       "array([750.     , 750.     , 750.     , 750.     , 750.00006, 749.99994,\n",
       "       749.99994, 750.     , 750.     , 750.     ], dtype=float32)"
      ]
     },
     "execution_count": 7,
     "metadata": {},
     "output_type": "execute_result"
    }
   ],
   "source": [
    "#Confirms constant r of 750 cm\n",
    "r = np.sqrt(useful_arr['x_value']**2+useful_arr['y_value']**2)\n",
    "r[:10]"
   ]
  },
  {
   "cell_type": "code",
   "execution_count": 8,
   "metadata": {},
   "outputs": [
    {
     "data": {
      "text/plain": [
       "array([155.00739, 183.40178, 277.82318, 186.42738,  56.0451 , 255.60233,\n",
       "       333.73544, 591.18304, 429.9304 , 813.096  ], dtype=float32)"
      ]
     },
     "execution_count": 8,
     "metadata": {},
     "output_type": "execute_result"
    }
   ],
   "source": [
    "z = useful_arr['z_value']\n",
    "z[:10]"
   ]
  },
  {
   "cell_type": "code",
   "execution_count": 9,
   "metadata": {},
   "outputs": [
    {
     "data": {
      "text/plain": [
       "<matplotlib.figure.Figure at 0x10fe91f98>"
      ]
     },
     "metadata": {},
     "output_type": "display_data"
    },
    {
     "data": {
      "image/png": "[encoded data removed]",
      "text/plain": [
       "<matplotlib.figure.Figure at 0x1104735c0>"
      ]
     },
     "metadata": {},
     "output_type": "display_data"
    }
   ],
   "source": [
    "xedges = np.arange(-180.0, 180.1, 3.)\n",
    "yedges = np.arange(0., 1000.1, 40.)\n",
    "heatmap, _, __ = np.histogram2d(phi,useful_arr['z_value'], bins=[xedges, yedges])\n",
    "extent = [xedges[0], xedges[-1], yedges[0], yedges[-1]]\n",
    "\n",
    "plt.clf()\n",
    "plt.figure(figsize=(18.8496,8))\n",
    "plt.imshow(heatmap.T, extent=extent, aspect='auto', origin='lower')\n",
    "plt.xticks(np.arange(-180., 181., 30.))\n",
    "# plt.xlim(100, 180)\n",
    "cb = plt.colorbar()\n",
    "cb.set_label('Hits')\n",
    "plt.title('Full Geometry')\n",
    "plt.savefig('Full_15.png')\n",
    "plt.show()"
   ]
  },
  {
   "cell_type": "code",
   "execution_count": 10,
   "metadata": {},
   "outputs": [
    {
     "data": {
      "image/png": "[encoded data removed]",
      "text/plain": [
       "<matplotlib.figure.Figure at 0x12a0b7438>"
      ]
     },
     "metadata": {},
     "output_type": "display_data"
    }
   ],
   "source": [
    "import matplotlib.cm as cm\n",
    "from scipy.ndimage.filters import gaussian_filter\n",
    "\n",
    "\n",
    "def myplot(phi,z, s, bins=[xedges, yedges]):\n",
    "    heatmap, _, __ = np.histogram2d(phi,z, bins=[xedges, yedges])\n",
    "    heatmap = gaussian_filter(heatmap, sigma=s)\n",
    "\n",
    "    extent = [xedges[0], xedges[-1], yedges[0], yedges[-1]]\n",
    "    return heatmap.T, extent\n",
    "\n",
    "\n",
    "fig, axs = plt.subplots(2, 2)\n",
    "\n",
    "\n",
    "sigmas = [0, 16, 32, 64]\n",
    "\n",
    "for ax, s in zip(axs.flatten(), sigmas):\n",
    "    if s == 0:\n",
    "        ax.plot(phi,z, 'k.', markersize=5)\n",
    "        ax.set_title(\"Scatter plot\")\n",
    "    else:\n",
    "        img, extent = myplot(phi,z, s)\n",
    "        ax.imshow(img, extent=extent, origin='lower',aspect='auto', cmap=cm.jet)\n",
    "        ax.set_title(\"Smoothing with  $\\sigma$ = %d\" % s)\n",
    "\n",
    "plt.show()\n"
   ]
  },
  {
   "cell_type": "code",
   "execution_count": null,
   "metadata": {
    "collapsed": true
   },
   "outputs": [],
   "source": [
    "heatmap?"
   ]
  },
  {
   "cell_type": "code",
   "execution_count": null,
   "metadata": {
    "collapsed": true
   },
   "outputs": [],
   "source": []
  }
 ],
 "metadata": {
  "kernelspec": {
   "display_name": "Python 3",
   "language": "python",
   "name": "python3"
  },
  "language_info": {
   "codemirror_mode": {
    "name": "ipython",
    "version": 3
   },
   "file_extension": ".py",
   "mimetype": "text/x-python",
   "name": "python",
   "nbconvert_exporter": "python",
   "pygments_lexer": "ipython3",
   "version": "3.6.2"
  }
 },
 "nbformat": 4,
 "nbformat_minor": 2
}
