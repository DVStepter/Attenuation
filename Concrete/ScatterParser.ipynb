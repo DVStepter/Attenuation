{
 "cells": [
  {
   "cell_type": "code",
   "execution_count": 1,
   "metadata": {
    "collapsed": true
   },
   "outputs": [],
   "source": [
    "import numpy as np\n",
    "import pandas as pd\n",
    "import matplotlib.pyplot as plt\n",
    "import scipy as sci\n",
    "\n",
    "#Creates function to remove extra spaces in sim file\n",
    "def cleanlines(line):\n",
    "    remove = ['  ', ' ']\n",
    "    for r in remove:\n",
    "        clean = line.replace(r, '') \n",
    "    split = clean.split(';')\n",
    "    return split"
   ]
  },
  {
   "cell_type": "code",
   "execution_count": 2,
   "metadata": {
    "collapsed": true
   },
   "outputs": [],
   "source": [
    "#Opens sim file\n",
    "data = open('ScatterConcreteModel.inc1.id1.sim', 'r').read()\n",
    "lines = data.split('\\n')"
   ]
  },
  {
   "cell_type": "code",
   "execution_count": 3,
   "metadata": {},
   "outputs": [
    {
     "name": "stdout",
     "output_type": "stream",
     "text": [
      "328147\n"
     ]
    },
    {
     "data": {
      "text/plain": [
       "array([(-472.78118896,  582.21813965,  334.45196533),\n",
       "       ( 548.7545166 , -511.24209595,  199.37037659),\n",
       "       (-472.08575439,  582.78216553,  782.62359619),\n",
       "       ( 305.26849365, -685.06286621,  420.58862305),\n",
       "       (-379.60412598,  646.83898926,   18.90604973),\n",
       "       (  73.25263214,  746.41412354,  204.39927673),\n",
       "       ( 535.90283203,  524.69812012,  918.4553833 ),\n",
       "       ( 747.39703369,  -62.43167877,  590.87145996),\n",
       "       (-739.22949219,  126.64810944,  608.47991943),\n",
       "       (-713.75006104, -230.3494873 ,  433.7571106 )],\n",
       "      dtype=[('x_value', '<f4'), ('y_value', '<f4'), ('z_value', '<f4')])"
      ]
     },
     "execution_count": 3,
     "metadata": {},
     "output_type": "execute_result"
    }
   ],
   "source": [
    "#Creates empty array for x, y, and z value of hits\n",
    "darrell_arr = np.dtype({\"names\": ['x_value', 'y_value','z_value'], \"formats\": [np.float32, np.float32, np.float32]})\n",
    "xlist = []\n",
    "ylist = []\n",
    "zlist = []\n",
    "\n",
    "#Tallies total hits in detector\n",
    "c = 0\n",
    "for l in lines:\n",
    "    line  = cleanlines(l)\n",
    "    #print(line[0][2:6])\n",
    "    if len(line) > 1 and line[0][2:6] == 'BLAK':\n",
    "        #print(line)\n",
    "        c +=1\n",
    "        #Tallies coordinates of hits\n",
    "        xlist.append(np.float32(line[4]))\n",
    "        ylist.append(np.float32(line[5]))\n",
    "        zlist.append(np.float32(line[6]))\n",
    "print(c)\n",
    "        \n",
    "\n",
    "useful_arr = np.zeros(len(xlist), darrell_arr)\n",
    "useful_arr['x_value'] = xlist\n",
    "useful_arr['y_value'] = ylist\n",
    "useful_arr['z_value'] = zlist\n",
    "useful_arr[:10]"
   ]
  },
  {
   "cell_type": "code",
   "execution_count": 4,
   "metadata": {},
   "outputs": [
    {
     "data": {
      "text/plain": [
       "array([ 129.07778931,  -42.97319412,  129.00938416,  -65.98193359,\n",
       "        120.40699005,   84.39497375,   44.39471817,   -4.77495384,\n",
       "        170.27819824, -162.11349487], dtype=float32)"
      ]
     },
     "execution_count": 4,
     "metadata": {},
     "output_type": "execute_result"
    }
   ],
   "source": [
    "#Generates phi -180 to 180 degrees\n",
    "phi = np.arctan2(useful_arr['y_value'],useful_arr['x_value'])*180/np.pi\n",
    "phi[:10]"
   ]
  },
  {
   "cell_type": "code",
   "execution_count": 5,
   "metadata": {},
   "outputs": [
    {
     "data": {
      "text/plain": [
       "array([ 750.        ,  750.        ,  750.        ,  750.        ,\n",
       "        750.        ,  750.        ,  750.        ,  750.        ,\n",
       "        750.        ,  750.00006104], dtype=float32)"
      ]
     },
     "execution_count": 5,
     "metadata": {},
     "output_type": "execute_result"
    }
   ],
   "source": [
    "#Confirms constant r of 750 cm\n",
    "r = np.sqrt(useful_arr['x_value']**2+useful_arr['y_value']**2)\n",
    "r[:10]"
   ]
  },
  {
   "cell_type": "code",
   "execution_count": 8,
   "metadata": {},
   "outputs": [
    {
     "data": {
      "image/png": "[encoded data removed]",
      "text/plain": [
       "<matplotlib.figure.Figure at 0x108591940>"
      ]
     },
     "metadata": {},
     "output_type": "display_data"
    }
   ],
   "source": [
    "heatmap, xedges, yedges = np.histogram2d(phi,useful_arr['z_value'], bins=[360,10])\n",
    "#extent = [xedges[0], xedges[-1], yedges[0], yedges[-1]]\n",
    "\n",
    "plt.clf()\n",
    "plt.imshow(heatmap.T, extent=[-180,180,0,1000], aspect='auto', origin='lower')\n",
    "cb = plt.colorbar()\n",
    "cb.set_label('Hits')\n",
    "plt.title('Scattered (15 Sec Sim)')\n",
    "plt.savefig('Scatter_15sec.png')\n",
    "plt.show()"
   ]
  },
  {
   "cell_type": "code",
   "execution_count": 7,
   "metadata": {
    "collapsed": true
   },
   "outputs": [],
   "source": [
    "plt.imshow?"
   ]
  },
  {
   "cell_type": "code",
   "execution_count": null,
   "metadata": {
    "collapsed": true
   },
   "outputs": [],
   "source": []
  }
 ],
 "metadata": {
  "kernelspec": {
   "display_name": "Python 3",
   "language": "python",
   "name": "python3"
  },
  "language_info": {
   "codemirror_mode": {
    "name": "ipython",
    "version": 3
   },
   "file_extension": ".py",
   "mimetype": "text/x-python",
   "name": "python",
   "nbconvert_exporter": "python",
   "pygments_lexer": "ipython3",
   "version": "3.6.2"
  }
 },
 "nbformat": 4,
 "nbformat_minor": 2
}
