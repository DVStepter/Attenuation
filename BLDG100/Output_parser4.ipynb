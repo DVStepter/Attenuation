{
 "cells": [
  {
   "cell_type": "code",
   "execution_count": 1,
   "metadata": {
    "collapsed": true
   },
   "outputs": [],
   "source": [
    "import numpy as np\n",
    "import pandas as pd\n",
    "import matplotlib.pyplot as plt\n",
    "\n",
    "import scipy as sci\n",
    "\n",
    "#Creates function to remove extra spaces in sim file\n",
    "def cleanlines(line):\n",
    "    remove = ['  ', ' ']\n",
    "    for r in remove:\n",
    "        clean = line.replace(r, '') \n",
    "    split = clean.split(';')\n",
    "    return split"
   ]
  },
  {
   "cell_type": "code",
   "execution_count": 2,
   "metadata": {
    "collapsed": true
   },
   "outputs": [],
   "source": [
    "#Opens sim file\n",
    "data = open('direct.inc1.id1.sim', 'r').read()\n",
    "lines = data.split('\\n')"
   ]
  },
  {
   "cell_type": "code",
   "execution_count": 3,
   "metadata": {},
   "outputs": [
    {
     "name": "stdout",
     "output_type": "stream",
     "text": [
      "11277\n"
     ]
    },
    {
     "data": {
      "text/plain": [
       "array([(-317.27548218,  11.71667004), (-335.65081787, -11.23281956),\n",
       "       (-333.26107788,   9.76562023), (-347.3182373 , -27.60333061),\n",
       "       (-318.13793945,  -5.27129984), (-342.02508545,  29.52573013),\n",
       "       (-310.79464722,  26.74770927), (-309.46484375,  -0.03825   ),\n",
       "       (-338.68551636,  -8.84154987), (-356.5848999 ,  21.73534966)],\n",
       "      dtype=[('y_value', '<f4'), ('z_value', '<f4')])"
      ]
     },
     "execution_count": 3,
     "metadata": {},
     "output_type": "execute_result"
    }
   ],
   "source": [
    "#Creates empty array for y and z value of hits\n",
    "darrell_arr = np.dtype({\"names\": ['y_value','z_value'], \"formats\": [np.float32, np.float32]})\n",
    "ylist = []\n",
    "zlist = []\n",
    "c = 0\n",
    "#Tallies total hit count and fills coordinates of hits from sim file\n",
    "for l in lines:\n",
    "    line  = cleanlines(l)\n",
    "    if len(line) > 1 and line[0][2:6] == 'BLAK':\n",
    "        c +=1\n",
    "        ylist.append(np.float32(line[5]))\n",
    "        zlist.append(np.float32(line[6]))\n",
    "print(c)\n",
    "        \n",
    "useful_arr = np.zeros(len(ylist), darrell_arr)\n",
    "useful_arr['y_value'] = ylist\n",
    "useful_arr['z_value'] = zlist\n",
    "useful_arr[:10]"
   ]
  },
  {
   "cell_type": "code",
   "execution_count": 5,
   "metadata": {},
   "outputs": [
    {
     "data": {
      "image/png": "[encoded data removed]",
      "text/plain": [
       "<matplotlib.figure.Figure at 0x16f1e5c18>"
      ]
     },
     "metadata": {},
     "output_type": "display_data"
    }
   ],
   "source": [
    "heatmap, xedges, yedges = np.histogram2d(useful_arr['y_value'], useful_arr['z_value'], bins=[24, 24])\n",
    "\n",
    "plt.clf()\n",
    "plt.imshow(heatmap.T, origin='lower')\n",
    "cb = plt.colorbar()\n",
    "cb.set_label('Hits')\n",
    "plt.title('Direct (30 Sec Sim)')\n",
    "plt.savefig('Direct_30sec.png')\n",
    "plt.show()\n"
   ]
  },
  {
   "cell_type": "code",
   "execution_count": 21,
   "metadata": {},
   "outputs": [
    {
     "ename": "SyntaxError",
     "evalue": "Missing parentheses in call to 'print' (<ipython-input-21-73f64b363117>, line 27)",
     "output_type": "error",
     "traceback": [
      "\u001b[0;36m  File \u001b[0;32m\"<ipython-input-21-73f64b363117>\"\u001b[0;36m, line \u001b[0;32m27\u001b[0m\n\u001b[0;31m    print extent\u001b[0m\n\u001b[0m               ^\u001b[0m\n\u001b[0;31mSyntaxError\u001b[0m\u001b[0;31m:\u001b[0m Missing parentheses in call to 'print'\n"
     ]
    }
   ],
   "source": [
    "import sphviewer as sph\n",
    "\n",
    "def myplot(x, y, nb=32, xsize=24, ysize=24):   \n",
    "    xmin = np.min(x)\n",
    "    xmax = np.max(x)\n",
    "    ymin = np.min(y)\n",
    "    ymax = np.max(y)\n",
    "\n",
    "    x0 = (xmin+xmax)/2.\n",
    "    y0 = (ymin+ymax)/2.\n",
    "\n",
    "    pos = np.zeros([3, len(x)])\n",
    "    pos[0,:] = x\n",
    "    pos[1,:] = y\n",
    "    w = np.ones(len(x))\n",
    "\n",
    "    P = sph.Particles(pos, w, nb=nb)\n",
    "    S = sph.Scene(P)\n",
    "    S.update_camera(r='infinity', x=x0, y=y0, z=0, \n",
    "                    xsize=xsize, ysize=ysize)\n",
    "    R = sph.Render(S)\n",
    "    R.set_logscale()\n",
    "    img = R.get_image()\n",
    "    extent = R.get_extent()\n",
    "    for i, j in zip(xrange(4), [x0,x0,y0,y0]):\n",
    "        extent[i] += j\n",
    "    print extent\n",
    "    return img, extent\n",
    "\n",
    "fig = plt.figure(1, figsize=(10,10))\n",
    "ax1 = fig.add_subplot(221)\n",
    "ax2 = fig.add_subplot(222)\n",
    "ax3 = fig.add_subplot(223)\n",
    "ax4 = fig.add_subplot(224)\n",
    "\n",
    "\n",
    "# Generate some test data\n",
    "x = ylist\n",
    "y = zlist\n",
    "\n",
    "#Plotting a regular scatter plot\n",
    "ax1.plot(x,y,'k.', markersize=5)\n",
    "ax1.set_xlim(-3,3)\n",
    "ax1.set_ylim(-3,3)\n",
    "\n",
    "heatmap_16, extent_16 = myplot(x,y, nb=16)\n",
    "heatmap_32, extent_32 = myplot(x,y, nb=32)\n",
    "heatmap_64, extent_64 = myplot(x,y, nb=64)\n",
    "\n",
    "ax2.imshow(heatmap_16, extent=extent_16, origin='lower', aspect='auto')\n",
    "ax2.set_title(\"Smoothing over 16 neighbors\")\n",
    "\n",
    "ax3.imshow(heatmap_32, extent=extent_32, origin='lower', aspect='auto')\n",
    "ax3.set_title(\"Smoothing over 32 neighbors\")\n",
    "\n",
    "#Make the heatmap using a smoothing over 64 neighbors\n",
    "ax4.imshow(heatmap_64, extent=extent_64, origin='lower', aspect='auto')\n",
    "ax4.set_title(\"Smoothing over 64 neighbors\")\n",
    "\n",
    "plt.show()\n"
   ]
  },
  {
   "cell_type": "code",
   "execution_count": null,
   "metadata": {
    "collapsed": true
   },
   "outputs": [],
   "source": []
  }
 ],
 "metadata": {
  "kernelspec": {
   "display_name": "Python 3",
   "language": "python",
   "name": "python3"
  },
  "language_info": {
   "codemirror_mode": {
    "name": "ipython",
    "version": 3
   },
   "file_extension": ".py",
   "mimetype": "text/x-python",
   "name": "python",
   "nbconvert_exporter": "python",
   "pygments_lexer": "ipython3",
   "version": "3.6.2"
  }
 },
 "nbformat": 4,
 "nbformat_minor": 2
}
